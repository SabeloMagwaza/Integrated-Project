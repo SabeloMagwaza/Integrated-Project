{
 "cells": [
  {
   "cell_type": "code",
   "execution_count": 7,
   "id": "0aab6fcf",
   "metadata": {},
   "outputs": [],
   "source": [
    "from pptx import Presentation\n",
    "from pptx.util import Inches, Pt\n",
    "\n",
    "# Create a presentation object\n",
    "prs = Presentation()\n",
    "slide_layout = prs.slide_layouts[5]  # Use a blank slide layout\n",
    "slide = prs.slides.add_slide(slide_layout)\n",
    "\n",
    "# Add title\n",
    "title = slide.shapes.title\n",
    "title.text = \"Project Management Board - Trello\"\n",
    "\n",
    "# Add text boxes for each list\n",
    "left = Inches(0.5)\n",
    "top = Inches(1.0)\n",
    "width = Inches(2.0)\n",
    "height = Inches(5.0)\n",
    "\n",
    "# Function to add a list with a title and content\n",
    "def add_list(slide, left, top, width, height, title_text, content_text):\n",
    "    txBox = slide.shapes.add_textbox(left, top, width, height)\n",
    "    tf = txBox.text_frame\n",
    "    p = tf.add_paragraph()\n",
    "    p.text = title_text\n",
    "    p.font.bold = True\n",
    "    p.font.size = Pt(16)\n",
    "    p = tf.add_paragraph()\n",
    "    p.text = content_text\n",
    "\n",
    "# Add 'Plan' list\n",
    "add_list(slide, left, top, width, height, \"Plan\", \"1. Define Objectives\\n2. Gather Requirements\\n3. Create Project Timeline\")\n",
    "\n",
    "# Add 'Build' list\n",
    "left += Inches(2.5)\n",
    "add_list(slide, left, top, width, height, \"Build\", \"1. Develop Features\\n2. Conduct Unit Testing\")\n",
    "\n",
    "# Add 'Review' list\n",
    "left += Inches(2.5)\n",
    "add_list(slide, left, top, width, height, \"Review\", \"1. Perform Code Reviews\\n2. User Acceptance Testing\")\n",
    "\n",
    "# Add 'Deploy' list\n",
    "left += Inches(2.5)\n",
    "add_list(slide, left, top, width, height, \"Deploy\", \"1. Prepare Deployment Plan\\n2. Monitor Deployment\")\n",
    "\n",
    "# Save the presentation\n",
    "output_path = \"C:/Users/w5665973/OneDrive - FRG/Desktop/Sabelo/Trello_Board.pptx\"\n",
    "prs.save(output_path)\n"
   ]
  },
  {
   "cell_type": "code",
   "execution_count": null,
   "id": "9b68f75f",
   "metadata": {},
   "outputs": [],
   "source": []
  }
 ],
 "metadata": {
  "kernelspec": {
   "display_name": "Python 3 (ipykernel)",
   "language": "python",
   "name": "python3"
  },
  "language_info": {
   "codemirror_mode": {
    "name": "ipython",
    "version": 3
   },
   "file_extension": ".py",
   "mimetype": "text/x-python",
   "name": "python",
   "nbconvert_exporter": "python",
   "pygments_lexer": "ipython3",
   "version": "3.9.13"
  }
 },
 "nbformat": 4,
 "nbformat_minor": 5
}
